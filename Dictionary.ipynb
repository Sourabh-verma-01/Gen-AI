{
  "cells": [
    {
      "cell_type": "markdown",
      "metadata": {
        "id": "view-in-github",
        "colab_type": "text"
      },
      "source": [
        "<a href=\"https://colab.research.google.com/github/Sourabh-verma-01/Gen-AI/blob/main/Dictionary.ipynb\" target=\"_parent\"><img src=\"https://colab.research.google.com/assets/colab-badge.svg\" alt=\"Open In Colab\"/></a>"
      ]
    },
    {
      "cell_type": "markdown",
      "id": "9f68b379-737d-4a69-8815-4198aa8b6813",
      "metadata": {
        "id": "9f68b379-737d-4a69-8815-4198aa8b6813"
      },
      "source": [
        "# Dictionary"
      ]
    },
    {
      "cell_type": "code",
      "execution_count": null,
      "id": "9a45e61e-7bc2-4b0c-b692-8fd048c81d5b",
      "metadata": {
        "id": "9a45e61e-7bc2-4b0c-b692-8fd048c81d5b"
      },
      "outputs": [],
      "source": [
        "# Dictinory is a data structure that  stores data as key value pais\n",
        "# Unorderd, key are unique and immutable\n",
        "# keys dont support any special charectors ex- @,#,$\n",
        "# keys can not be a list or set."
      ]
    },
    {
      "cell_type": "code",
      "execution_count": null,
      "id": "d15c7b9a-3ef9-4ddc-b426-f1379d6505ae",
      "metadata": {
        "id": "d15c7b9a-3ef9-4ddc-b426-f1379d6505ae",
        "outputId": "e3023535-3311-4124-c403-b2586d33a1a6"
      },
      "outputs": [
        {
          "data": {
            "text/plain": [
              "dict"
            ]
          },
          "execution_count": 24,
          "metadata": {},
          "output_type": "execute_result"
        }
      ],
      "source": [
        "a = {}\n",
        "type(a)"
      ]
    },
    {
      "cell_type": "code",
      "execution_count": null,
      "id": "8e8d64d6-191b-46b3-a16d-2eac82e41097",
      "metadata": {
        "id": "8e8d64d6-191b-46b3-a16d-2eac82e41097",
        "outputId": "1f8bf499-16b1-424e-d29d-b68f8c16bde0"
      },
      "outputs": [
        {
          "data": {
            "text/plain": [
              "{'Name': 'sk', 'Age': 30, 'Place': 'Jbp'}"
            ]
          },
          "execution_count": 25,
          "metadata": {},
          "output_type": "execute_result"
        }
      ],
      "source": [
        "b = {\"Name\":\"sk\", \"Age\":30, \"Place\":\"Jbp\"}\n",
        "b"
      ]
    },
    {
      "cell_type": "code",
      "execution_count": null,
      "id": "0f4e633d-6bd4-4404-8c7e-072ccd9aaa6a",
      "metadata": {
        "id": "0f4e633d-6bd4-4404-8c7e-072ccd9aaa6a",
        "outputId": "ef4b3abe-60fe-4571-ab4e-5d37544f33c7"
      },
      "outputs": [
        {
          "data": {
            "text/plain": [
              "'sk'"
            ]
          },
          "execution_count": 26,
          "metadata": {},
          "output_type": "execute_result"
        }
      ],
      "source": [
        "\n",
        "b[\"Name\"]"
      ]
    },
    {
      "cell_type": "code",
      "execution_count": null,
      "id": "4b10dafb-e7d9-419c-8f2e-7226636c66d3",
      "metadata": {
        "id": "4b10dafb-e7d9-419c-8f2e-7226636c66d3"
      },
      "outputs": [],
      "source": [
        "b[\"Name\"] = \"Sourabh\"\n",
        "# Dictnory me key kabhi change nahi hoti only key value change hoti hai.\n",
        "# keys dont support any special charectors ex- @,#,$"
      ]
    },
    {
      "cell_type": "code",
      "execution_count": null,
      "id": "90631b73-d66b-4f13-aed5-4d5987d7a15b",
      "metadata": {
        "id": "90631b73-d66b-4f13-aed5-4d5987d7a15b",
        "outputId": "84560457-bf90-4fe4-c69a-473ed03f5946"
      },
      "outputs": [
        {
          "data": {
            "text/plain": [
              "{'Name': 'Sourabh', 'Age': 30, 'Place': 'Jbp'}"
            ]
          },
          "execution_count": 28,
          "metadata": {},
          "output_type": "execute_result"
        }
      ],
      "source": [
        "b"
      ]
    },
    {
      "cell_type": "code",
      "execution_count": null,
      "id": "3e60c916-55f7-4fe3-9ef7-0608c108b707",
      "metadata": {
        "id": "3e60c916-55f7-4fe3-9ef7-0608c108b707",
        "outputId": "a45bdd7a-784c-4b9f-fcaf-1a7aaac78e31"
      },
      "outputs": [
        {
          "ename": "NameError",
          "evalue": "name 'bro' is not defined",
          "output_type": "error",
          "traceback": [
            "\u001b[1;31m---------------------------------------------------------------------------\u001b[0m",
            "\u001b[1;31mNameError\u001b[0m                                 Traceback (most recent call last)",
            "Cell \u001b[1;32mIn[29], line 1\u001b[0m\n\u001b[1;32m----> 1\u001b[0m f \u001b[38;5;241m=\u001b[39m {[\u001b[38;5;241m1\u001b[39m,\u001b[38;5;241m2\u001b[39m,\u001b[38;5;241m3\u001b[39m]:\u001b[43mbro\u001b[49m}\n\u001b[0;32m      2\u001b[0m \u001b[38;5;66;03m# keys can not be a list.\u001b[39;00m\n",
            "\u001b[1;31mNameError\u001b[0m: name 'bro' is not defined"
          ]
        }
      ],
      "source": [
        "f = {[1,2,3]:bro}\n",
        "# keys can not be a list."
      ]
    },
    {
      "cell_type": "code",
      "execution_count": null,
      "id": "f2089988-95a4-4fcd-a2db-41865a4d609c",
      "metadata": {
        "id": "f2089988-95a4-4fcd-a2db-41865a4d609c",
        "outputId": "2c9ea28a-c36b-454f-f1c0-0c4a489fdc25"
      },
      "outputs": [
        {
          "ename": "NameError",
          "evalue": "name 'bro' is not defined",
          "output_type": "error",
          "traceback": [
            "\u001b[1;31m---------------------------------------------------------------------------\u001b[0m",
            "\u001b[1;31mNameError\u001b[0m                                 Traceback (most recent call last)",
            "Cell \u001b[1;32mIn[30], line 1\u001b[0m\n\u001b[1;32m----> 1\u001b[0m f \u001b[38;5;241m=\u001b[39m {(\u001b[38;5;241m1\u001b[39m,\u001b[38;5;241m2\u001b[39m,\u001b[38;5;241m3\u001b[39m):\u001b[43mbro\u001b[49m}\n\u001b[0;32m      2\u001b[0m \u001b[38;5;66;03m# keys can not be a list.\u001b[39;00m\n",
            "\u001b[1;31mNameError\u001b[0m: name 'bro' is not defined"
          ]
        }
      ],
      "source": [
        "f = {(1,2,3):bro}\n",
        "# keys can not be a list."
      ]
    },
    {
      "cell_type": "code",
      "execution_count": null,
      "id": "72c10d0e-ff7a-4acd-afd7-da163c2575c6",
      "metadata": {
        "id": "72c10d0e-ff7a-4acd-afd7-da163c2575c6",
        "outputId": "a62f7a1f-f0a1-436b-c447-eb4fca608c52"
      },
      "outputs": [
        {
          "data": {
            "text/plain": [
              "{'Name': 'Sourabh', 'Age': 30, 'Place': 'Jbp'}"
            ]
          },
          "execution_count": 34,
          "metadata": {},
          "output_type": "execute_result"
        }
      ],
      "source": [
        "b"
      ]
    },
    {
      "cell_type": "code",
      "execution_count": null,
      "id": "bbb2f858-810c-493b-bf38-2eefe121ee58",
      "metadata": {
        "id": "bbb2f858-810c-493b-bf38-2eefe121ee58",
        "outputId": "a8590d53-0625-46f3-e64b-fe6e0f7a0b7c"
      },
      "outputs": [
        {
          "data": {
            "text/plain": [
              "dict_keys(['Name', 'Age', 'Place'])"
            ]
          },
          "execution_count": 35,
          "metadata": {},
          "output_type": "execute_result"
        }
      ],
      "source": [
        "b.keys()\n",
        " # for know key values"
      ]
    },
    {
      "cell_type": "code",
      "execution_count": null,
      "id": "ac4bbf6a-4db2-4500-8e2d-f3bbcfaac49b",
      "metadata": {
        "id": "ac4bbf6a-4db2-4500-8e2d-f3bbcfaac49b",
        "outputId": "ce690a11-2bcc-4781-fee1-7b315ccb17f6"
      },
      "outputs": [
        {
          "data": {
            "text/plain": [
              "dict_values(['Sourabh', 30, 'Jbp'])"
            ]
          },
          "execution_count": 37,
          "metadata": {},
          "output_type": "execute_result"
        }
      ],
      "source": [
        "b.values()\n",
        "# for know key values"
      ]
    },
    {
      "cell_type": "code",
      "execution_count": null,
      "id": "5c05de58-72b9-4a45-a1f2-05fb39e5ef75",
      "metadata": {
        "id": "5c05de58-72b9-4a45-a1f2-05fb39e5ef75",
        "outputId": "b3bd4478-85f2-42a8-e1ab-b62ae874841a"
      },
      "outputs": [
        {
          "data": {
            "text/plain": [
              "dict_items([('Name', 'Sourabh'), ('Age', 30), ('Place', 'Jbp')])"
            ]
          },
          "execution_count": 38,
          "metadata": {},
          "output_type": "execute_result"
        }
      ],
      "source": [
        "b.items()"
      ]
    },
    {
      "cell_type": "code",
      "execution_count": null,
      "id": "332f22c6-299f-43d3-845b-2ef0b6c051d0",
      "metadata": {
        "id": "332f22c6-299f-43d3-845b-2ef0b6c051d0"
      },
      "outputs": [],
      "source": [
        "b1=b.copy()\n",
        "# copy function (deep copy and shollow copy)"
      ]
    },
    {
      "cell_type": "code",
      "execution_count": null,
      "id": "1f653082-2e4b-447a-af47-62a725660583",
      "metadata": {
        "id": "1f653082-2e4b-447a-af47-62a725660583",
        "outputId": "6bb8208d-84b6-4f28-caf6-3718d4aa2386"
      },
      "outputs": [
        {
          "data": {
            "text/plain": [
              "{'Name': 'Sourabh', 'Age': 30, 'Place': 'Jbp'}"
            ]
          },
          "execution_count": 40,
          "metadata": {},
          "output_type": "execute_result"
        }
      ],
      "source": [
        "b1"
      ]
    },
    {
      "cell_type": "code",
      "execution_count": null,
      "id": "437739d9-0ea5-4984-a658-6dd8c2bd35e4",
      "metadata": {
        "id": "437739d9-0ea5-4984-a658-6dd8c2bd35e4",
        "outputId": "7402f86e-1895-4c08-8932-0305cc9d7e9d"
      },
      "outputs": [
        {
          "ename": "SyntaxError",
          "evalue": "invalid syntax (669273594.py, line 1)",
          "output_type": "error",
          "traceback": [
            "\u001b[1;36m  Cell \u001b[1;32mIn[43], line 1\u001b[1;36m\u001b[0m\n\u001b[1;33m    del.b1\u001b[0m\n\u001b[1;37m       ^\u001b[0m\n\u001b[1;31mSyntaxError\u001b[0m\u001b[1;31m:\u001b[0m invalid syntax\n"
          ]
        }
      ],
      "source": [
        "del.b1\n",
        "# del function"
      ]
    },
    {
      "cell_type": "code",
      "execution_count": null,
      "id": "03b272cf-e2bf-4082-b4d4-61e99acc63f2",
      "metadata": {
        "id": "03b272cf-e2bf-4082-b4d4-61e99acc63f2",
        "outputId": "f7958a0e-7b04-40e7-fc85-78ef4480895a"
      },
      "outputs": [
        {
          "ename": "TypeError",
          "evalue": "pop expected at least 1 argument, got 0",
          "output_type": "error",
          "traceback": [
            "\u001b[1;31m---------------------------------------------------------------------------\u001b[0m",
            "\u001b[1;31mTypeError\u001b[0m                                 Traceback (most recent call last)",
            "Cell \u001b[1;32mIn[44], line 3\u001b[0m\n\u001b[0;32m      1\u001b[0m \u001b[38;5;66;03m# have to mention a key to pop a value, other wise its throw error \u001b[39;00m\n\u001b[1;32m----> 3\u001b[0m \u001b[43mb\u001b[49m\u001b[38;5;241;43m.\u001b[39;49m\u001b[43mpop\u001b[49m\u001b[43m(\u001b[49m\u001b[43m)\u001b[49m\n",
            "\u001b[1;31mTypeError\u001b[0m: pop expected at least 1 argument, got 0"
          ]
        }
      ],
      "source": [
        "# have to mention a key to pop a value, other wise its throw error\n",
        "\n",
        "b.pop()"
      ]
    },
    {
      "cell_type": "code",
      "execution_count": null,
      "id": "e70f7797-863d-4aad-9cc3-ad846853b908",
      "metadata": {
        "id": "e70f7797-863d-4aad-9cc3-ad846853b908",
        "outputId": "cbd16838-da26-4245-904a-523af6141e78"
      },
      "outputs": [
        {
          "data": {
            "text/plain": [
              "{'Name': 'Sourabh', 'Age': 30, 'Place': 'Jbp'}"
            ]
          },
          "execution_count": 52,
          "metadata": {},
          "output_type": "execute_result"
        }
      ],
      "source": [
        "b"
      ]
    },
    {
      "cell_type": "code",
      "execution_count": null,
      "id": "190bdf36-fe4f-4ddb-9fd9-6c8d466db78d",
      "metadata": {
        "id": "190bdf36-fe4f-4ddb-9fd9-6c8d466db78d",
        "outputId": "79663fff-139a-4f82-fe1b-e3a72e40fb51"
      },
      "outputs": [
        {
          "data": {
            "text/plain": [
              "30"
            ]
          },
          "execution_count": 53,
          "metadata": {},
          "output_type": "execute_result"
        }
      ],
      "source": [
        "b.pop('Age')"
      ]
    },
    {
      "cell_type": "code",
      "execution_count": null,
      "id": "8f72159f-9a7a-4629-a8ae-4174aa35fea8",
      "metadata": {
        "id": "8f72159f-9a7a-4629-a8ae-4174aa35fea8",
        "outputId": "c95eea96-1bc0-41c0-9e21-28cf1ed8de38"
      },
      "outputs": [
        {
          "data": {
            "text/plain": [
              "{'Name': 'Sourabh', 'Place': 'Jbp'}"
            ]
          },
          "execution_count": 54,
          "metadata": {},
          "output_type": "execute_result"
        }
      ],
      "source": [
        "b"
      ]
    },
    {
      "cell_type": "code",
      "execution_count": null,
      "id": "37e571b8-755b-4ecc-bd25-33e15262edaa",
      "metadata": {
        "id": "37e571b8-755b-4ecc-bd25-33e15262edaa"
      },
      "outputs": [],
      "source": [
        "b3 = {\"sleep\": \"8 houre\"}"
      ]
    },
    {
      "cell_type": "code",
      "execution_count": null,
      "id": "ceff5eee-c2dc-45ab-91f8-98633fda153e",
      "metadata": {
        "id": "ceff5eee-c2dc-45ab-91f8-98633fda153e"
      },
      "outputs": [],
      "source": [
        "b.update(b3)\n",
        "# adding two dict with update function"
      ]
    },
    {
      "cell_type": "code",
      "execution_count": null,
      "id": "4988de97-e7d1-45b4-866f-af2121bb98da",
      "metadata": {
        "id": "4988de97-e7d1-45b4-866f-af2121bb98da",
        "outputId": "8d0e84e3-8a7f-4e59-de88-c643e03a09c0"
      },
      "outputs": [
        {
          "data": {
            "text/plain": [
              "{'Name': 'Sourabh', 'Place': 'Jbp', 'sleep': '8 houre'}"
            ]
          },
          "execution_count": 59,
          "metadata": {},
          "output_type": "execute_result"
        }
      ],
      "source": [
        "b"
      ]
    },
    {
      "cell_type": "code",
      "execution_count": null,
      "id": "dd63f553-6994-46f8-906c-11842baadffc",
      "metadata": {
        "id": "dd63f553-6994-46f8-906c-11842baadffc",
        "outputId": "d12d453c-9d2a-4b81-b682-a010f840e575"
      },
      "outputs": [
        {
          "data": {
            "text/plain": [
              "'Sourabh'"
            ]
          },
          "execution_count": 63,
          "metadata": {},
          "output_type": "execute_result"
        }
      ],
      "source": [
        "# finding or acessing dict values with ->> b.[xyz] or b.get(xyz) function.\n",
        "\n",
        "b['Name']"
      ]
    },
    {
      "cell_type": "code",
      "execution_count": null,
      "id": "b0201596-b845-42c2-a976-0cf28797ad4a",
      "metadata": {
        "id": "b0201596-b845-42c2-a976-0cf28797ad4a",
        "outputId": "453acaa4-c281-4f9d-fa0f-6ae3e5ded7b0"
      },
      "outputs": [
        {
          "data": {
            "text/plain": [
              "'Sourabh'"
            ]
          },
          "execution_count": 70,
          "metadata": {},
          "output_type": "execute_result"
        }
      ],
      "source": [
        "b.get(\"Name\")"
      ]
    },
    {
      "cell_type": "code",
      "execution_count": null,
      "id": "a1fd9000-bf8f-4071-9343-b10dda840acf",
      "metadata": {
        "id": "a1fd9000-bf8f-4071-9343-b10dda840acf",
        "outputId": "05760a06-c104-4e77-9fe7-648755727cc9"
      },
      "outputs": [
        {
          "data": {
            "text/plain": [
              "{1: ('r', 't', 'y'), 2: ('r', 't', 'y'), 3: ('r', 't', 'y')}"
            ]
          },
          "execution_count": 85,
          "metadata": {},
          "output_type": "execute_result"
        }
      ],
      "source": [
        "# Create a new dictionary with keys from iterable and values set to value.\n",
        "a.fromkeys((1,2,3),('r','t','y'))"
      ]
    },
    {
      "cell_type": "code",
      "execution_count": null,
      "id": "71b8782b-ad40-483b-96d8-c390967b9dd2",
      "metadata": {
        "id": "71b8782b-ad40-483b-96d8-c390967b9dd2"
      },
      "outputs": [],
      "source": [
        "# Dict comprehension\n",
        "# list convert to dictnory\n",
        "#zip function --> helps to combine two list as dict\n",
        "\n",
        "cls = ['8th','9th','10th']\n",
        "students = [ 20,30,50]\n",
        "\n",
        "g ={}\n",
        "\n",
        "for cls, students in zip(cls,students):\n",
        "    g[cls] =  students\n",
        "\n",
        "\n"
      ]
    },
    {
      "cell_type": "code",
      "execution_count": null,
      "id": "390932df-0074-43fb-a0ed-07724f47aa6a",
      "metadata": {
        "id": "390932df-0074-43fb-a0ed-07724f47aa6a",
        "outputId": "c1eeea79-5c4d-428e-ea26-37260254f48e"
      },
      "outputs": [
        {
          "data": {
            "text/plain": [
              "{'8th': 20, '9th': 30, '10th': 50}"
            ]
          },
          "execution_count": 91,
          "metadata": {},
          "output_type": "execute_result"
        }
      ],
      "source": [
        "g"
      ]
    },
    {
      "cell_type": "code",
      "execution_count": null,
      "id": "4641c34b-eb14-4f6b-b7e7-4c62e30d5349",
      "metadata": {
        "id": "4641c34b-eb14-4f6b-b7e7-4c62e30d5349",
        "outputId": "24b08069-1e9b-4a1f-cad2-efa70d781c1b"
      },
      "outputs": [
        {
          "data": {
            "text/plain": [
              "{20: 'nothing', 25: 'strugle', 34: 'job'}"
            ]
          },
          "execution_count": 95,
          "metadata": {},
          "output_type": "execute_result"
        }
      ],
      "source": [
        "# zip function\n",
        "\n",
        "me = [20,25,34]\n",
        "work= ['nothing', 'strugle', 'job']\n",
        "{me1:work1 for me1, work1  in zip(me,work)}"
      ]
    },
    {
      "cell_type": "code",
      "execution_count": null,
      "id": "0755dc8f-6033-40c1-9382-6de99c7d750e",
      "metadata": {
        "id": "0755dc8f-6033-40c1-9382-6de99c7d750e",
        "outputId": "bd5dc2c5-b608-41a7-e56f-d114511c8dad"
      },
      "outputs": [
        {
          "data": {
            "text/plain": [
              "dict_keys(['Name', 'Place', 'sleep'])"
            ]
          },
          "execution_count": 100,
          "metadata": {},
          "output_type": "execute_result"
        }
      ],
      "source": [
        "# dictnory viwe objcts\n",
        "# key() function\n",
        "# values() function\n",
        "# item() function()\n",
        "\n",
        "b.keys()\n"
      ]
    },
    {
      "cell_type": "code",
      "execution_count": null,
      "id": "27411744-98eb-4ddc-9ccc-d752af2eae0c",
      "metadata": {
        "id": "27411744-98eb-4ddc-9ccc-d752af2eae0c",
        "outputId": "e663d91e-f88a-4470-f6c5-ae0579cdc294"
      },
      "outputs": [
        {
          "data": {
            "text/plain": [
              "dict_values(['Sourabh', 'Jbp', '8 houre'])"
            ]
          },
          "execution_count": 99,
          "metadata": {},
          "output_type": "execute_result"
        }
      ],
      "source": [
        "b.values()"
      ]
    },
    {
      "cell_type": "code",
      "execution_count": null,
      "id": "427f4d36-3db2-45f2-938a-e8619efa8490",
      "metadata": {
        "id": "427f4d36-3db2-45f2-938a-e8619efa8490",
        "outputId": "a3d0096f-847b-4440-94ab-b61215702802"
      },
      "outputs": [
        {
          "data": {
            "text/plain": [
              "dict_items([('Name', 'Sourabh'), ('Place', 'Jbp'), ('sleep', '8 houre')])"
            ]
          },
          "execution_count": 101,
          "metadata": {},
          "output_type": "execute_result"
        }
      ],
      "source": [
        "b.items()"
      ]
    },
    {
      "cell_type": "code",
      "execution_count": null,
      "id": "d8be1172-0804-4a2c-934a-fa8096c7458f",
      "metadata": {
        "id": "d8be1172-0804-4a2c-934a-fa8096c7458f"
      },
      "outputs": [],
      "source": []
    },
    {
      "cell_type": "code",
      "execution_count": null,
      "id": "4459f35b-b0e4-4a9b-81f3-c77b7aa64b0a",
      "metadata": {
        "id": "4459f35b-b0e4-4a9b-81f3-c77b7aa64b0a"
      },
      "outputs": [],
      "source": []
    }
  ],
  "metadata": {
    "kernelspec": {
      "display_name": "Python 3 (ipykernel)",
      "language": "python",
      "name": "python3"
    },
    "language_info": {
      "codemirror_mode": {
        "name": "ipython",
        "version": 3
      },
      "file_extension": ".py",
      "mimetype": "text/x-python",
      "name": "python",
      "nbconvert_exporter": "python",
      "pygments_lexer": "ipython3",
      "version": "3.12.1"
    },
    "colab": {
      "provenance": [],
      "include_colab_link": true
    }
  },
  "nbformat": 4,
  "nbformat_minor": 5
}