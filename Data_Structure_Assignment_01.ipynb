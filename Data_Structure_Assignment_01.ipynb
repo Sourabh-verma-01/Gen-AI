{
  "cells": [
    {
      "cell_type": "markdown",
      "metadata": {
        "id": "view-in-github",
        "colab_type": "text"
      },
      "source": [
        "<a href=\"https://colab.research.google.com/github/Sourabh-verma-01/Gen-AI/blob/main/Data_Structure_Assignment_01.ipynb\" target=\"_parent\"><img src=\"https://colab.research.google.com/assets/colab-badge.svg\" alt=\"Open In Colab\"/></a>"
      ]
    },
    {
      "cell_type": "code",
      "execution_count": null,
      "metadata": {
        "id": "T2O9DiT4_vOJ",
        "outputId": "3a8fe1e8-7a21-4f4e-f9db-39ba5af30e30"
      },
      "outputs": [
        {
          "name": "stdout",
          "output_type": "stream",
          "text": [
            "SLLIKS WP\n"
          ]
        }
      ],
      "source": [
        "#Q.1 Write a code to reverse a string.\n",
        "string = 'PW SKILLS'\n",
        "print(string[::-1])\n"
      ]
    },
    {
      "cell_type": "code",
      "execution_count": null,
      "metadata": {
        "id": "XpF0cQd1_vOQ",
        "outputId": "3f8db89f-7a36-42a4-fdc6-3c509671827a"
      },
      "outputs": [
        {
          "name": "stdout",
          "output_type": "stream",
          "text": [
            "Number of vowels is 1\n"
          ]
        }
      ],
      "source": [
        "#Q.2 Write a Code to count nummber of vowels in a string\n",
        "vowels = ['a','e','i','o','u']\n",
        "count = []\n",
        "for i in string:\n",
        "    if(i.lower() in vowels):\n",
        "        count.append(1)\n",
        "print(f\"Number of vowels is {len(count)}\")"
      ]
    },
    {
      "cell_type": "code",
      "execution_count": null,
      "metadata": {
        "id": "YULzVIRH_vOS",
        "outputId": "297ceb12-1f97-4cee-8bf8-ab698365ac4e"
      },
      "outputs": [
        {
          "name": "stdout",
          "output_type": "stream",
          "text": [
            "It is a plaindrome --> racecar\n"
          ]
        }
      ],
      "source": [
        "#Q.3 Write a code to check if a given string is a palindrome or not\n",
        "string = 'racecar'\n",
        "if(string == string[::-1]):\n",
        "    print(\"It is a plaindrome -->\" , string )"
      ]
    },
    {
      "cell_type": "code",
      "execution_count": null,
      "metadata": {
        "id": "p1Zm4Dmf_vOT",
        "outputId": "9a206910-2256-4e23-93df-1b183c854e86"
      },
      "outputs": [
        {
          "name": "stdout",
          "output_type": "stream",
          "text": [
            "It is an anagram of other string\n"
          ]
        }
      ],
      "source": [
        "#Q.4 Write a code to check if two gievn string are anagrams of each other.\n",
        "string = \"SILENT\"\n",
        "string1 = \"LISTEN\"\n",
        "if(len(string) != len(string1)):\n",
        "    print(\"Not a anagrams string\")\n",
        "else:\n",
        "    from collections import Counter as c\n",
        "    if c(string) == c(string1):\n",
        "        print(\"It is an anagram of other string\")"
      ]
    },
    {
      "cell_type": "code",
      "execution_count": null,
      "metadata": {
        "id": "ZQiVRrHS_vOU",
        "outputId": "bec4799a-1a4c-4b11-cc5f-0479ea55a3b6"
      },
      "outputs": [
        {
          "data": {
            "text/plain": [
              "2"
            ]
          },
          "execution_count": 7,
          "metadata": {},
          "output_type": "execute_result"
        }
      ],
      "source": [
        "#Q.5 Write a code to find all occurreneces of a given substring within another string.\n",
        "\n",
        "string = \"This assignment is just for advanced assignment\"\n",
        "substring = \"assignment\"\n",
        "word_list = string.split()\n",
        "word_list.count(substring)"
      ]
    },
    {
      "cell_type": "code",
      "execution_count": null,
      "metadata": {
        "id": "j-op9tKf_vOV",
        "outputId": "52bab411-c82e-4181-8f29-0592bc3dff65"
      },
      "outputs": [
        {
          "name": "stdout",
          "output_type": "stream",
          "text": [
            "a5b3c3d1r1f2g3\n"
          ]
        }
      ],
      "source": [
        "#Q.6  Write a code to perform basic string compression using the count of repeated characters.\n",
        "string = 'aaabbbacccdrfgggfa'\n",
        "char_count = {}\n",
        "compressed_string = \"\"\n",
        "for char in string:\n",
        "    if char in char_count:\n",
        "        char_count[char] +=1\n",
        "    else:\n",
        "        char_count[char] = 1\n",
        "for char,count in char_count.items():\n",
        "    compressed_string += char + str(count)\n",
        "print(compressed_string)"
      ]
    },
    {
      "cell_type": "code",
      "execution_count": null,
      "metadata": {
        "id": "y84b3w4W_vOW",
        "outputId": "128c3045-2949-479e-ffb1-197fa2f5ab8b"
      },
      "outputs": [
        {
          "name": "stdout",
          "output_type": "stream",
          "text": [
            "Yes a unique string\n"
          ]
        }
      ],
      "source": [
        "#Q.7 Write a code to determine if a string has all unique characters.\n",
        "string = 'padmesh'\n",
        "unique = True\n",
        "for i in range(len(string)):\n",
        "    if string.count(string[i])>1:\n",
        "        unique = False\n",
        "        break\n",
        "if unique:\n",
        "    print(\"Yes a unique string\")\n",
        "else:\n",
        "    print(\"Not a unique string\")\n"
      ]
    },
    {
      "cell_type": "code",
      "execution_count": null,
      "metadata": {
        "id": "Bk9M403A_vOX",
        "outputId": "dd1cb706-780d-4e37-adb7-bf20152c360d"
      },
      "outputs": [
        {
          "name": "stdout",
          "output_type": "stream",
          "text": [
            "PADMESH\n"
          ]
        }
      ],
      "source": [
        "#Q.8 Write a code to convert a given string to uppercase or lowercase.\n",
        "string = 'padmesh'\n",
        "print(string.upper())"
      ]
    },
    {
      "cell_type": "code",
      "execution_count": null,
      "metadata": {
        "id": "abhrNMoQ_vOY",
        "outputId": "9b2368d3-c7c8-4333-f450-795a48fa89ed"
      },
      "outputs": [
        {
          "name": "stdout",
          "output_type": "stream",
          "text": [
            " The number of length of words is 7\n"
          ]
        }
      ],
      "source": [
        "#Q.9 Write a code to count the number of words in a string.\n",
        "string = \"This assignment is just for advanced assignment\"\n",
        "temp = string.split()\n",
        "print(f\" The number of length of words is {len(temp)}\")"
      ]
    },
    {
      "cell_type": "code",
      "execution_count": null,
      "metadata": {
        "id": "jPYP27rk_vOZ",
        "outputId": "8924e8bb-4e4d-4aab-d690-a6bb9ae183cb"
      },
      "outputs": [
        {
          "name": "stdout",
          "output_type": "stream",
          "text": [
            "PW Skills\n"
          ]
        }
      ],
      "source": [
        "#Q.10 Write a code to concatenate two strings without using the + operator.\n",
        "string1 = \"PW\"\n",
        "string2 = \" Skills\"\n",
        "list_ = []\n",
        "result = \"\"\n",
        "for char in string1:\n",
        "    list_.append(char)\n",
        "for char in string2:\n",
        "    list_.append(char)\n",
        "for i in list_:\n",
        "    result+=i\n",
        "print(result)"
      ]
    },
    {
      "cell_type": "code",
      "execution_count": null,
      "metadata": {
        "id": "521umtaW_vOb",
        "outputId": "07197d38-89d1-437b-b215-aa2cf4590ecc"
      },
      "outputs": [
        {
          "name": "stdout",
          "output_type": "stream",
          "text": [
            "['a', 'c', 'd', 'a', 'b', 'c']\n"
          ]
        }
      ],
      "source": [
        "#Q.11 Write a code to remove all occurrences of a specific element from a list.\n",
        "list1 = ['a','b','c','d','a','b','c']\n",
        "remove_string = input(\"Which element you want to remove from the string\") #b\n",
        "list1.remove(remove_string)\n",
        "\n",
        "print(list1)\n"
      ]
    },
    {
      "cell_type": "code",
      "execution_count": null,
      "metadata": {
        "id": "euq_NWot_vOb",
        "outputId": "3437565d-efd5-4fed-f78c-ae4dcd4f42a8"
      },
      "outputs": [
        {
          "name": "stdout",
          "output_type": "stream",
          "text": [
            "67\n"
          ]
        }
      ],
      "source": [
        "#Q.12 Implement a code to find the second largest number in a given list of integer.\n",
        "list1 = [12,3,67,98,55,21]\n",
        "second_largest = 0\n",
        "for i in list1:\n",
        "    if i > second_largest and i!= max(list1):\n",
        "        second_largest = i\n",
        "print(second_largest)"
      ]
    },
    {
      "cell_type": "code",
      "execution_count": null,
      "metadata": {
        "id": "bD5SKKYB_vOc",
        "outputId": "7c7dca01-076d-4414-8855-7c7053417eef"
      },
      "outputs": [
        {
          "name": "stdout",
          "output_type": "stream",
          "text": [
            "{'a': 3, 'b': 3, 'c': 1, 'd': 1}\n"
          ]
        }
      ],
      "source": [
        "#Q.13 Create a code to count the occurrences of each element in a list and return a dictionary with elements as\n",
        "#keys and their counts as values.\n",
        "\n",
        "list1 = ['a','b','c','d','a','b','a','b']\n",
        "count_element = {}\n",
        "for char in list1:\n",
        "    if char in count_element:\n",
        "        count_element[char] += 1\n",
        "    else:\n",
        "        count_element[char] = 1\n",
        "print(count_element)"
      ]
    },
    {
      "cell_type": "code",
      "execution_count": null,
      "metadata": {
        "id": "k_jZApJ6_vOd",
        "outputId": "fda8dd0c-caff-4fcd-c9b8-a8e7665b193b"
      },
      "outputs": [
        {
          "name": "stdout",
          "output_type": "stream",
          "text": [
            "['Shadow of War', 'Ghost of Tsushima', 'gtaV', 'rdr']\n"
          ]
        }
      ],
      "source": [
        "#Q.14 Write a code to reverse a list in-place without using any built-in reverse functions\n",
        "list1 = ['rdr','gtaV','Ghost of Tsushima', 'Shadow of War']\n",
        "print(list1[::-1])"
      ]
    },
    {
      "cell_type": "code",
      "execution_count": null,
      "metadata": {
        "id": "OclcmMjS_vOd",
        "outputId": "5a29d2aa-ad1d-43b5-9ed4-7cfab6533419"
      },
      "outputs": [
        {
          "name": "stdout",
          "output_type": "stream",
          "text": [
            "['rdr', 'gtaV', 'Ghost of Tsushima', 'Shadow of War']\n"
          ]
        }
      ],
      "source": [
        "#Q.15 Implement a code to find and remove duplicates from a list while preversing the original order of the element\n",
        "list1 = ['rdr','gtaV','Ghost of Tsushima', 'Shadow of War', 'rdr', 'gtaV']\n",
        "list_without_duplicates = list(dict.fromkeys(list1))\n",
        "print(list_without_duplicates)"
      ]
    },
    {
      "cell_type": "code",
      "execution_count": null,
      "metadata": {
        "id": "53J1jSux_vOe",
        "outputId": "646e6304-8216-443a-956d-7e6b21b7acf2"
      },
      "outputs": [
        {
          "name": "stdout",
          "output_type": "stream",
          "text": [
            "Ascending order\n"
          ]
        }
      ],
      "source": [
        "#Q.16 Create a code to check if a given list is sorted (either in ascending or descending order) or not.\n",
        "list1 = [1,2,3,4,5,6]\n",
        "is_ascending = True\n",
        "is_decending = True\n",
        "for i in range(len(list1) -1):\n",
        "    if list1[i] > list1[i+1]:\n",
        "        is_ascending = False\n",
        "    if list1[i] < list1[i+1]:\n",
        "        is_decending = False\n",
        "if is_ascending:\n",
        "    print('Ascending order')\n",
        "elif is_decending:\n",
        "    print('Decending order')"
      ]
    },
    {
      "cell_type": "code",
      "execution_count": null,
      "metadata": {
        "id": "LU2gnwpO_vOf",
        "outputId": "dde8d52e-ed18-4a4c-9a61-267886e1d4ee"
      },
      "outputs": [
        {
          "name": "stdout",
          "output_type": "stream",
          "text": [
            "[0, 1, 2, 3, 4, 5, 6, 7, 8, 9]\n"
          ]
        }
      ],
      "source": [
        "#Q.17 Write a code to merge two sorted lists into a single sorted list.\n",
        "list1 = [1,2,3,4,5]\n",
        "list2 = [0,9,8,7,6]\n",
        "new_list = list1+list2\n",
        "new_list.sort()\n",
        "print(new_list)"
      ]
    },
    {
      "cell_type": "code",
      "execution_count": null,
      "metadata": {
        "id": "H8yHLQi1_vOh",
        "outputId": "34876a10-4d9b-45bc-a3bd-92202b792d51"
      },
      "outputs": [
        {
          "name": "stdout",
          "output_type": "stream",
          "text": [
            "[4, 5]\n"
          ]
        }
      ],
      "source": [
        "#Q.18 Implement a code to find the intersection of two given lists.\n",
        "list1 = [1,2,3,4,5]\n",
        "list2 = [4,5,6,7,8]\n",
        "intersection_set = set(list1) & set(list2)\n",
        "print(list(intersection_set))"
      ]
    },
    {
      "cell_type": "code",
      "execution_count": null,
      "metadata": {
        "id": "VgLEieot_vOi",
        "outputId": "ba1c85ac-2f20-42a1-e9ef-db9f5ec6a969"
      },
      "outputs": [
        {
          "name": "stdout",
          "output_type": "stream",
          "text": [
            "[1, 2, 3, 4, 5, 6, 7, 8]\n"
          ]
        }
      ],
      "source": [
        "#Q.19 Create a code to find the union of two lists without duplicates.\n",
        "list1 = [1,2,3,4,5]\n",
        "list2 = [4,5,6,7,8]\n",
        "union_set = set(list1) | set(list2)\n",
        "print(list(union_set))"
      ]
    },
    {
      "cell_type": "code",
      "execution_count": null,
      "metadata": {
        "id": "5nQ6Fr2a_vOj",
        "outputId": "7933a660-0dde-44f6-cb2f-d45cbfdcef7e"
      },
      "outputs": [
        {
          "name": "stdout",
          "output_type": "stream",
          "text": [
            "['Shadow of War', 'rdr', 'gtaV', 'Ghost of Tsushima']\n"
          ]
        }
      ],
      "source": [
        "#Q.20 Write code to shuffle a given list randomly without using any built-in shuffle functions.\n",
        "list1 = ['rdr','gtaV','Ghost of Tsushima', 'Shadow of War', 'rdr', 'gtaV']\n",
        "set1 = set(list1)\n",
        "print(list(set1))"
      ]
    },
    {
      "cell_type": "code",
      "execution_count": null,
      "metadata": {
        "id": "Idimfhba_vOk",
        "outputId": "700f8935-57b3-4b23-ab72-959c9bfe0ac6"
      },
      "outputs": [
        {
          "name": "stdout",
          "output_type": "stream",
          "text": [
            "(4, 5)\n"
          ]
        }
      ],
      "source": [
        "#Q.21 Write code that takes two tuples as input and returns a new tuple containing elements that are common to both input tuples\n",
        "tuple1 = (1,2,3,4,5)\n",
        "tuple2 = (4,5,6,7,8)\n",
        "set1 = set(tuple1)\n",
        "set2 = set(tuple2)\n",
        "new_set = set1 & set2\n",
        "new_tuple = tuple(new_set)\n",
        "print(new_tuple)"
      ]
    },
    {
      "cell_type": "code",
      "execution_count": null,
      "metadata": {
        "id": "5JWEXncb_vOl",
        "outputId": "d32674de-b475-4dea-c0d4-beb880eb24d2"
      },
      "outputs": [
        {
          "name": "stdout",
          "output_type": "stream",
          "text": [
            "{4, 5}\n"
          ]
        }
      ],
      "source": [
        "#Q.22 Create a code that prompts the user to enter two sets of integers separated by commas. Then, print the intersection of these two sets.\n",
        "str1 = input(\"Enter integers seperated with commas\") #1,2,3,4,5\n",
        "str2 = input(\"Enter integers seperated with commas\") #4,5,6,7,8\n",
        "set1 = set(map(int,str1.split(\",\")))\n",
        "set2 = set(map(int,str2.split(\",\")))\n",
        "print(set1 & set2)\n",
        "\n"
      ]
    },
    {
      "cell_type": "code",
      "execution_count": null,
      "metadata": {
        "id": "MeP3mxi9_vOm",
        "outputId": "43911cb4-2ef8-4bcf-f631-3f873874be88"
      },
      "outputs": [
        {
          "name": "stdout",
          "output_type": "stream",
          "text": [
            "('rdr', 'gtaV', 'Ghost of Tsushima', 'Shadow of War', 'rdr', 'gtaV')\n"
          ]
        }
      ],
      "source": [
        "#Q.23 Write code to concatenate two tuples. The function should take two tuples as input and return a new tuple containing elements from both input tuples.\n",
        "def concatenate_tuples(x,y):\n",
        "    return x+y\n",
        "tuple1 = ('rdr','gtaV','Ghost of Tsushima')\n",
        "tuple2 = ('Shadow of War', 'rdr', 'gtaV')\n",
        "print(concatenate_tuples(tuple1,tuple2))"
      ]
    },
    {
      "cell_type": "code",
      "execution_count": null,
      "metadata": {
        "id": "63ZkLonv_vOn",
        "outputId": "0a06652c-cf07-499f-c448-d2bf591b25bf"
      },
      "outputs": [
        {
          "name": "stdout",
          "output_type": "stream",
          "text": [
            "{'p', 'e', 's', 'm'}\n"
          ]
        }
      ],
      "source": [
        "#Q.24 Develop code that prompts the user to input two sets of strings. Then, print the elements that are present in the first set but not in the second set.\n",
        "str1 = input(\"enter the string1\")  #padmesh\n",
        "str2 = input(\"enter the string2\")  #bagdiya\n",
        "set1 = set()\n",
        "set2 = set()\n",
        "for i in range(len(str1)-1):\n",
        "    set1.add(str1[i])\n",
        "for i in range(len(str2)-1):\n",
        "    set2.add(str2[i])\n",
        "print(set1 - set2)"
      ]
    },
    {
      "cell_type": "code",
      "execution_count": null,
      "metadata": {
        "id": "7tGJ4SDW_vOn",
        "outputId": "0f630343-1c1d-49c3-edd4-e196655cf53e"
      },
      "outputs": [
        {
          "name": "stdout",
          "output_type": "stream",
          "text": [
            "('gtaV', 'Ghost of Tsushima', 'Shadow of War', 'rdr')\n"
          ]
        }
      ],
      "source": [
        "#Q.25 Create a code that takes a tuple and two integers as input. The function should return a new tuple containing elements from the original tuple within the specified range of indices\n",
        "def tuple_with_indices(x,y,z):\n",
        "    return(x[y:z])\n",
        "tuple1 = ('rdr', 'gtaV', 'Ghost of Tsushima', 'Shadow of War', 'rdr', 'gtaV')\n",
        "index1 = 1\n",
        "index2 = 5\n",
        "print(tuple_with_indices(tuple1,index1,index2))"
      ]
    },
    {
      "cell_type": "code",
      "execution_count": null,
      "metadata": {
        "id": "Y22iaGgf_vOo",
        "outputId": "ef3f833b-cf39-4efc-abc5-97e5f91937d7"
      },
      "outputs": [
        {
          "name": "stdout",
          "output_type": "stream",
          "text": [
            "{'', 'p', 'q', 'r', 'b', 'g', 'n', 'j', 'e', 'i', 'h', 'd', 'c', 'o', 'a', 'k', 'f', 'm', 'l'}\n"
          ]
        }
      ],
      "source": [
        "#Q.26 Write code that prompts the user to input two sets of characters. Then, print the union of these two sets.\n",
        "set1 = set()\n",
        "set2 = set()\n",
        "for i in range(10):\n",
        "    set1.add(input(f\"Enter the character {i} for first string\"))\n",
        "    set2.add(input(f\"Enter the charcater{i} for second string\"))\n",
        "print(set1 | set2)"
      ]
    },
    {
      "cell_type": "code",
      "execution_count": null,
      "metadata": {
        "id": "SarMjpSG_vOp",
        "outputId": "a6b8ee37-d0a6-4195-c62e-db8ca00fe474"
      },
      "outputs": [
        {
          "name": "stdout",
          "output_type": "stream",
          "text": [
            "Minvalue: 0 Maxvalue: 9\n"
          ]
        }
      ],
      "source": [
        "#Q.27 Develop a code that takes a tuple of integers as input. The function should return the maximum and minimum values from the tuple using tuple unpacking.\n",
        "tuple1 = {1,2,3,4,5,6,7,8,9,0}\n",
        "minvalue, maxvalue = min(tuple1), max(tuple1)\n",
        "print(f\"Minvalue: {minvalue} Maxvalue: {maxvalue}\")"
      ]
    },
    {
      "cell_type": "code",
      "execution_count": null,
      "metadata": {
        "id": "3RIpOs2l_vOq",
        "outputId": "7476ed7e-a4dc-466c-f934-e739cc8c66ab"
      },
      "outputs": [
        {
          "name": "stdout",
          "output_type": "stream",
          "text": [
            "{1, 2, 3, 4, 5, 6, 7}\n",
            "{4}\n",
            "{1, 2, 3}\n"
          ]
        }
      ],
      "source": [
        "#Q.28 Create a code that defines two sets of integers. Then print the union, intersection, and difference of these two sets\n",
        "set1 = {1,2,3,4}\n",
        "set2 = {4,5,6,7}\n",
        "print(f\"{set1 | set2}\\n{set1&set2}\\n{set1-set2}\")"
      ]
    },
    {
      "cell_type": "code",
      "execution_count": null,
      "metadata": {
        "id": "92zHCK12_vOq",
        "outputId": "06f49d36-b546-4118-aa32-bb7a2e83c419"
      },
      "outputs": [
        {
          "name": "stdout",
          "output_type": "stream",
          "text": [
            "3\n"
          ]
        }
      ],
      "source": [
        "#Q.29 Write code that takes a tuple and an element as input. The function should return the count of occurrences of the given element in the tuple.\n",
        "def count_of_element(x,y):\n",
        "    return x.count(y)\n",
        "tuple1 = (1,2,3,4,1,2,6,7,8,7,1)\n",
        "count_element = 1\n",
        "print(count_of_element(tuple1,1))"
      ]
    },
    {
      "cell_type": "code",
      "execution_count": null,
      "metadata": {
        "id": "ayWx10xx_vOr",
        "outputId": "44fb01e6-368d-4907-aa53-f2cda0828139"
      },
      "outputs": [
        {
          "name": "stdout",
          "output_type": "stream",
          "text": [
            "{'', '7', '6', '5', '2', '3', '1'}\n"
          ]
        }
      ],
      "source": [
        "#Q.30 Develop code that prompts the user to input two sets of strings. Then, print the symmetric difference of these two sets.\n",
        "set1 = set() #{1,2,3,4,5}\n",
        "set2 = set() #{4,5,6,7,8}\n",
        "for i in range(5):\n",
        "    set1.add(input(f\"Enter the string {i} for first set\"))\n",
        "for i in range(5):\n",
        "    set2.add(input(f\"Enter the string {i} for second set\"))\n",
        "print(set1^set2)"
      ]
    },
    {
      "cell_type": "code",
      "execution_count": null,
      "metadata": {
        "id": "FVpw9tvL_vOs",
        "outputId": "c2c835f8-7a6b-49dd-cd68-e00963e87571"
      },
      "outputs": [
        {
          "name": "stdout",
          "output_type": "stream",
          "text": [
            "{'rdr': 2, 'gtaV': 2, 'Ghost of Tsushima': 1, 'Shadow of War': 1}\n"
          ]
        }
      ],
      "source": [
        "#Q.31 Write code that takes a list of words as input and returns a dictionary where the keys are the unique words and the values are the frequencies of those words in the input list\n",
        "list1 = ['rdr','gtaV','Ghost of Tsushima', 'Shadow of War', 'rdr', 'gtaV']\n",
        "dict1 = {}\n",
        "for char in list1:\n",
        "    if char in dict1:\n",
        "        dict1[char] +=1\n",
        "    else:\n",
        "        dict1[char] = 1\n",
        "print(dict1)"
      ]
    },
    {
      "cell_type": "code",
      "execution_count": null,
      "metadata": {
        "id": "nV72L37D_vOs",
        "outputId": "045db5c5-ae76-4e0b-de8d-7fbec0e76e31"
      },
      "outputs": [
        {
          "name": "stdout",
          "output_type": "stream",
          "text": [
            "{'rdr': 2, 'gtaV': 13, 'Ghost_of_Tsushima': 4, 'Shadow_of_war': 20}\n"
          ]
        }
      ],
      "source": [
        "#Q.32 Write code that takes two dictionaries as input and merges them into a single dictionary. If there are common keys, the values should be added together\n",
        "dict1 = {'rdr': 2, 'gtaV': 3, 'Ghost_of_Tsushima': 4}\n",
        "dict2 = {'Shadow_of_war': 20, 'gtaV': 10}\n",
        "merged_dict = {}\n",
        "for key in dict1:\n",
        "    merged_dict[key] = dict1[key]\n",
        "for key in dict2:\n",
        "    if key in merged_dict:\n",
        "        merged_dict[key] += dict2[key]\n",
        "    else:\n",
        "        merged_dict[key] = dict2[key]\n",
        "print(merged_dict)\n"
      ]
    },
    {
      "cell_type": "code",
      "execution_count": null,
      "metadata": {
        "id": "ngLL71oF_vOt"
      },
      "outputs": [],
      "source": [
        "#Q.33 Write code to access a value in a nested dictionary. The function should take the dictionary and a list of keys as input and return the corresponding value. If any of the keys do not exist in the dictionary, the function should return None\n",
        "def acess_value(dict,keys)\n",
        "nested_dictionary = {\n",
        "    'PW Skills': {\n",
        "        'students': ['Padmesh','varnika']\n",
        "    }\n",
        "}\n",
        "key_list = []"
      ]
    },
    {
      "cell_type": "code",
      "execution_count": null,
      "metadata": {
        "id": "Wfbt1MoI_vOu",
        "outputId": "fe2b52aa-8c54-48a5-9b2e-e187d3ad9d9c"
      },
      "outputs": [
        {
          "name": "stdout",
          "output_type": "stream",
          "text": [
            "{'rdr': 2, 'Ghost_of_Tsushima': 4, 'gtaV': 13, 'Shadow_of_war': 20}\n"
          ]
        }
      ],
      "source": [
        "#Q.34 Write code that takes a dictionary as input and returns a sorted version of it based on the values. You can choose whether to sort in ascending or descending order.\n",
        "dictionary = {'rdr': 2, 'gtaV': 13, 'Ghost_of_Tsushima': 4, 'Shadow_of_war': 20}\n",
        "list1 = []\n",
        "for char,value in dictionary.items():\n",
        "    list1.append(value)\n",
        "list1.sort()\n",
        "dict1= {}\n",
        "count = 0\n",
        "while(len(dict1)!=len(dictionary)):\n",
        "    for char in dictionary:\n",
        "        if list1[count] == dictionary[char]:\n",
        "            dict1[char] = list1[count]\n",
        "            count+=1\n",
        "print(dict1)"
      ]
    },
    {
      "cell_type": "code",
      "execution_count": null,
      "metadata": {
        "id": "W8k6x4ju_vOv"
      },
      "outputs": [],
      "source": [
        "#Q.35 Write a code that inverts a dictionary by swapping keys and values. Ensure that the inverted dictionary correctly handles cases where multiple keys have the same value by storing the keys as a list in the inverted dictionary."
      ]
    }
  ],
  "metadata": {
    "kernelspec": {
      "display_name": "Python 3 (ipykernel)",
      "language": "python",
      "name": "python3"
    },
    "language_info": {
      "codemirror_mode": {
        "name": "ipython",
        "version": 3
      },
      "file_extension": ".py",
      "mimetype": "text/x-python",
      "name": "python",
      "nbconvert_exporter": "python",
      "pygments_lexer": "ipython3",
      "version": "3.12.1"
    },
    "colab": {
      "provenance": [],
      "include_colab_link": true
    }
  },
  "nbformat": 4,
  "nbformat_minor": 0
}